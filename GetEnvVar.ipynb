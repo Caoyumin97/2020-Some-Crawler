{
 "cells": [
  {
   "cell_type": "markdown",
   "metadata": {},
   "source": [
    "# Libs"
   ]
  },
  {
   "cell_type": "code",
   "execution_count": 88,
   "metadata": {
    "ExecuteTime": {
     "end_time": "2020-03-03T11:31:58.968839Z",
     "start_time": "2020-03-03T11:31:58.964826Z"
    }
   },
   "outputs": [],
   "source": [
    "import time\n",
    "import json\n",
    "\n",
    "import pandas as pd\n",
    "import requests\n",
    "from bs4 import BeautifulSoup as BS"
   ]
  },
  {
   "cell_type": "markdown",
   "metadata": {},
   "source": [
    "# Wunderground"
   ]
  },
  {
   "cell_type": "code",
   "execution_count": 3,
   "metadata": {
    "ExecuteTime": {
     "end_time": "2020-03-03T10:24:15.980288Z",
     "start_time": "2020-03-03T10:24:14.641074Z"
    }
   },
   "outputs": [],
   "source": [
    "url = \"http://api.wunderground.com/api/2b0d6572c90d3e4a/lang:CN/conditions_v11/alerts_v11/forecast/forecast10day_v11/hourly10day_v11/history_2018101820181028/astronomy/astronomy10day/q/zmw:00000.1.58362.json?v=wuiapp\"\n",
    "res = requests.get(url)\n",
    "res.encoding = 'utf-8'\n",
    "datadict = json.loads(res.text)"
   ]
  },
  {
   "cell_type": "code",
   "execution_count": 196,
   "metadata": {
    "ExecuteTime": {
     "end_time": "2020-03-03T10:17:54.362325Z",
     "start_time": "2020-03-03T10:17:54.346369Z"
    }
   },
   "outputs": [],
   "source": [
    "data = pd.DataFrame(datadict['history']['observations'])\n",
    "\n",
    "\n",
    "def concat_datetime(x):\n",
    "    Y, m, d = x['year'], x['mon'], x['mday']\n",
    "    H, M = x['hour'], x['min']\n",
    "\n",
    "    datetime = ''\n",
    "    for item in [Y, m, d]:\n",
    "        datetime = datetime + '/' + item\n",
    "    datetime += (' ' + H)\n",
    "    datetime += (':' + M)\n",
    "\n",
    "    return datetime[1:]\n",
    "\n",
    "\n",
    "data['datetime'] = data['date'].map(lambda x: concat_datetime(x))\n",
    "data['datetime'] = pd.to_datetime(data['datetime'])\n",
    "\n",
    "dropcols = ['date', 'utcdate', 'dewpti', 'dewptm', 'hail', 'tempi', 'heatindexi',\n",
    "            'heatindexm', 'icon', 'metar', 'precipi', 'precipm', 'pressurei',\n",
    "            'pressurem', 'snow', 'tempi', 'thunder', 'tornado', 'visi', 'vism',\n",
    "            'wdird', 'wdire', 'wgusti', 'wgustm', 'windchilli', 'windchillm', 'wspdi']\n",
    "\n",
    "colnames = ['skyCondition', 'fog', 'humidity', 'rain',\n",
    "            'temperature', 'windSpeed', 'datetime']\n",
    "\n",
    "data.drop(dropcols, axis=1, inplace=True)\n",
    "data.columns = colnames"
   ]
  },
  {
   "cell_type": "code",
   "execution_count": 197,
   "metadata": {
    "ExecuteTime": {
     "end_time": "2020-03-03T10:17:56.739501Z",
     "start_time": "2020-03-03T10:17:56.732526Z"
    }
   },
   "outputs": [],
   "source": [
    "data.to_csv('../Data/MeteroData.csv',index=None)"
   ]
  },
  {
   "cell_type": "markdown",
   "metadata": {},
   "source": [
    "# Baidu Index"
   ]
  },
  {
   "cell_type": "code",
   "execution_count": 73,
   "metadata": {
    "ExecuteTime": {
     "end_time": "2020-03-03T11:15:48.023928Z",
     "start_time": "2020-03-03T11:15:48.019975Z"
    }
   },
   "outputs": [],
   "source": [
    "url_congest_mile = \"https://jiaotong.baidu.com/trafficindex/city/congestmile?cityCode=289\"\n",
    "url_roadrank0 = \"https://jiaotong.baidu.com/trafficindex/city/roadrank?cityCode=289&roadtype=0\"\n",
    "url_roadrank1 = \"https://jiaotong.baidu.com/trafficindex/city/roadrank?cityCode=289&roadtype=1\"\n",
    "url_cities = \"https://jiaotong.baidu.com/trafficindex/city/road?cityCode=289\""
   ]
  },
  {
   "cell_type": "code",
   "execution_count": 66,
   "metadata": {
    "ExecuteTime": {
     "end_time": "2020-03-03T11:13:26.674278Z",
     "start_time": "2020-03-03T11:13:26.669293Z"
    }
   },
   "outputs": [],
   "source": [
    "def get_json(url):\n",
    "    res = requests.get(url)\n",
    "    res.encoding = 'utf-8'\n",
    "    return json.loads(res.text)"
   ]
  },
  {
   "cell_type": "code",
   "execution_count": 93,
   "metadata": {
    "ExecuteTime": {
     "end_time": "2020-03-03T11:34:36.179274Z",
     "start_time": "2020-03-03T11:34:36.173327Z"
    }
   },
   "outputs": [],
   "source": [
    "def get_roadrank_data(url_roadrank, roadRankData):\n",
    "    for url in url_roadrank:\n",
    "        raw_df = pd.DataFrame(get_json(url)['data']['list'])\n",
    "        raw_df.drop(['citycode','district_type','links',\n",
    "                     'nameadd','roadsegid','semantic'],\n",
    "                    axis = 1,inplace = True)\n",
    "        raw_df.columns = roadRankData.columns\n",
    "        roadRankData = pd.concat((roadRankData,raw_df),axis=0)\n",
    "\n",
    "    return roadRankData"
   ]
  },
  {
   "cell_type": "code",
   "execution_count": 91,
   "metadata": {
    "ExecuteTime": {
     "end_time": "2020-03-03T11:34:26.553154Z",
     "start_time": "2020-03-03T11:34:26.548159Z"
    }
   },
   "outputs": [],
   "source": [
    "def update_and_save(df, fn, url, name):\n",
    "    df_update = fn(url, df)\n",
    "    df_update.to_csv('./' + name + '.csv',index = None)\n",
    "    time.sleep(300)"
   ]
  },
  {
   "cell_type": "code",
   "execution_count": null,
   "metadata": {
    "ExecuteTime": {
     "start_time": "2020-03-03T11:34:38.237Z"
    }
   },
   "outputs": [],
   "source": [
    "roadRankData = pd.DataFrame(columns=['id','index','indexLevel','length',\n",
    "                                     'location','roadType','roadName',\n",
    "                                     'speed','datetime','congestionLength'])\n",
    "update_and_save(roadRankData, get_roadrank_data,\n",
    "                url = [url_roadrank0,url_roadrank1],\n",
    "                name = 'RoadRankData')"
   ]
  }
 ],
 "metadata": {
  "hide_input": false,
  "kernelspec": {
   "display_name": "Python 3",
   "language": "python",
   "name": "python3"
  },
  "language_info": {
   "codemirror_mode": {
    "name": "ipython",
    "version": 3
   },
   "file_extension": ".py",
   "mimetype": "text/x-python",
   "name": "python",
   "nbconvert_exporter": "python",
   "pygments_lexer": "ipython3",
   "version": "3.6.4rc1"
  },
  "latex_envs": {
   "LaTeX_envs_menu_present": true,
   "autoclose": false,
   "autocomplete": true,
   "bibliofile": "biblio.bib",
   "cite_by": "apalike",
   "current_citInitial": 1,
   "eqLabelWithNumbers": true,
   "eqNumInitial": 1,
   "hotkeys": {
    "equation": "Ctrl-E",
    "itemize": "Ctrl-I"
   },
   "labels_anchors": false,
   "latex_user_defs": false,
   "report_style_numbering": false,
   "user_envs_cfg": false
  },
  "toc": {
   "base_numbering": 1,
   "nav_menu": {},
   "number_sections": true,
   "sideBar": true,
   "skip_h1_title": false,
   "title_cell": "Table of Contents",
   "title_sidebar": "Contents",
   "toc_cell": false,
   "toc_position": {},
   "toc_section_display": true,
   "toc_window_display": false
  },
  "varInspector": {
   "cols": {
    "lenName": 16,
    "lenType": 16,
    "lenVar": 40
   },
   "kernels_config": {
    "python": {
     "delete_cmd_postfix": "",
     "delete_cmd_prefix": "del ",
     "library": "var_list.py",
     "varRefreshCmd": "print(var_dic_list())"
    },
    "r": {
     "delete_cmd_postfix": ") ",
     "delete_cmd_prefix": "rm(",
     "library": "var_list.r",
     "varRefreshCmd": "cat(var_dic_list()) "
    }
   },
   "types_to_exclude": [
    "module",
    "function",
    "builtin_function_or_method",
    "instance",
    "_Feature"
   ],
   "window_display": false
  }
 },
 "nbformat": 4,
 "nbformat_minor": 2
}
